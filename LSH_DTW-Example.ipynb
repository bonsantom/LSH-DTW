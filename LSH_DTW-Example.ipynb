{
 "cells": [
  {
   "cell_type": "code",
   "execution_count": 5,
   "metadata": {},
   "outputs": [],
   "source": [
    "from tslearn.datasets import UCR_UEA_datasets\n",
    "from tslearn.utils import to_time_series_dataset\n",
    "from tslearn.neighbors import KNeighborsTimeSeriesClassifier\n",
    "import pandas as pd\n",
    "from datetime import datetime\n",
    "import import_ipynb\n",
    "import LSH_DTW"
   ]
  },
  {
   "cell_type": "markdown",
   "metadata": {},
   "source": [
    "# Using Locality Sensitive Hashing"
   ]
  },
  {
   "cell_type": "code",
   "execution_count": 6,
   "metadata": {},
   "outputs": [],
   "source": [
    "X_train, y_train, X_test, y_test = UCR_UEA_datasets().load_dataset(\"TwoPatterns\")"
   ]
  },
  {
   "cell_type": "code",
   "execution_count": 15,
   "metadata": {},
   "outputs": [
    {
     "name": "stdout",
     "output_type": "stream",
     "text": [
      "Time to predict values: 0:01:10.721017\n",
      "Accuracy: 0.892\n"
     ]
    }
   ],
   "source": [
    "start = datetime.now()\n",
    "table_LSH = LSH_DTW.DTW_classifier(X_train=X_train, y_train=y_train, num_vectors=6, seed=0)\n",
    "y_hat = LSH_DTW.DTW_predict(table_LSH, X_test)\n",
    "\n",
    "print('Time to predict values:',(datetime.now()-start))\n",
    "print('Accuracy:', round(len(y_test[y_test == y_hat])/4000,3))"
   ]
  },
  {
   "cell_type": "markdown",
   "metadata": {},
   "source": [
    "# USING KNeighborsTimeSeriesClassifier method without Locality Sensitive Hashing"
   ]
  },
  {
   "cell_type": "code",
   "execution_count": 16,
   "metadata": {},
   "outputs": [
    {
     "name": "stdout",
     "output_type": "stream",
     "text": [
      "Time to predict values: 3:48:18.969597\n",
      "Accuracy: 1.0\n"
     ]
    }
   ],
   "source": [
    "start = datetime.now()\n",
    "knn = KNeighborsTimeSeriesClassifier(n_neighbors=2)\n",
    "knn.fit(X_train, y_train)\n",
    "y_hat_v2 = knn.predict(X_test)\n",
    "print('Time to predict values:',(datetime.now()-start))\n",
    "print('Accuracy:', round(len(y_test[y_test == y_hat_v2])/4000,3))"
   ]
  },
  {
   "cell_type": "code",
   "execution_count": null,
   "metadata": {},
   "outputs": [],
   "source": []
  }
 ],
 "metadata": {
  "kernelspec": {
   "display_name": "Python 3",
   "language": "python",
   "name": "python3"
  },
  "language_info": {
   "codemirror_mode": {
    "name": "ipython",
    "version": 3
   },
   "file_extension": ".py",
   "mimetype": "text/x-python",
   "name": "python",
   "nbconvert_exporter": "python",
   "pygments_lexer": "ipython3",
   "version": "3.7.3"
  }
 },
 "nbformat": 4,
 "nbformat_minor": 4
}
